{
 "cells": [
  {
   "cell_type": "markdown",
   "metadata": {},
   "source": [
    "# Spectrogram images generation for gnsz"
   ]
  },
  {
   "cell_type": "markdown",
   "metadata": {},
   "source": [
    "### Importing libraries"
   ]
  },
  {
   "cell_type": "code",
   "execution_count": 2,
   "metadata": {},
   "outputs": [],
   "source": [
    "import os\n",
    "import numpy as np\n",
    "import pandas as pd\n",
    "import mne\n",
    "from scipy import stats\n",
    "%matplotlib qt"
   ]
  },
  {
   "cell_type": "code",
   "execution_count": 3,
   "metadata": {},
   "outputs": [],
   "source": [
    "import matplotlib\n",
    "matplotlib.use('Qt5Agg')\n",
    "import matplotlib.pyplot as plt"
   ]
  },
  {
   "cell_type": "markdown",
   "metadata": {},
   "source": [
    "### Spectrogram images of gnsz files"
   ]
  },
  {
   "cell_type": "code",
   "execution_count": 4,
   "metadata": {},
   "outputs": [],
   "source": [
    "root = \"../Dataset/gnsz/\"\n",
    "save_img = \"../Spectrograms/gnsz/\""
   ]
  },
  {
   "cell_type": "code",
   "execution_count": 6,
   "metadata": {},
   "outputs": [],
   "source": [
    "%%capture\n",
    "times = []\n",
    "rmv = []\n",
    "for r, d, f in os.walk(root):\n",
    "    for file in f:\n",
    "        path = root + file\n",
    "        bck = mne.io.read_raw_fif(path, verbose=0)\n",
    "        time = bck.n_times/bck.info['sfreq']\n",
    "        times.append((time,str(root+file)))\n",
    "        if time < 7:        # remove files with duration < 7 seconds\n",
    "            f.remove(file)\n",
    "print(len(f))"
   ]
  },
  {
   "cell_type": "code",
   "execution_count": 12,
   "metadata": {},
   "outputs": [
    {
     "name": "stderr",
     "output_type": "stream",
     "text": [
      "C:\\Users\\Irfan\\AppData\\Local\\Temp/ipykernel_8244/2314466411.py:4: RuntimeWarning: This filename (../Dataset/gnsz/s001_2013_03_23-00010020_s001_t001-9.fif) does not conform to MNE naming conventions. All raw files should end with raw.fif, raw_sss.fif, raw_tsss.fif, _meg.fif, _eeg.fif, _ieeg.fif, raw.fif.gz, raw_sss.fif.gz, raw_tsss.fif.gz, _meg.fif.gz, _eeg.fif.gz or _ieeg.fif.gz\n",
      "  bck = mne.io.read_raw_fif(path, preload=True, verbose=0).pick(['EEG T5-REF', 'EEG O1-REF'])\n",
      "C:\\Users\\Irfan\\AppData\\Local\\Temp/ipykernel_8244/2314466411.py:4: RuntimeWarning: This filename (../Dataset/gnsz/s001_2014_08_13-00011870_s001_t002-0.fif) does not conform to MNE naming conventions. All raw files should end with raw.fif, raw_sss.fif, raw_tsss.fif, _meg.fif, _eeg.fif, _ieeg.fif, raw.fif.gz, raw_sss.fif.gz, raw_tsss.fif.gz, _meg.fif.gz, _eeg.fif.gz or _ieeg.fif.gz\n",
      "  bck = mne.io.read_raw_fif(path, preload=True, verbose=0).pick(['EEG T5-REF', 'EEG O1-REF'])\n",
      "C:\\Users\\Irfan\\AppData\\Local\\Temp/ipykernel_8244/2314466411.py:4: RuntimeWarning: This filename (../Dataset/gnsz/s001_2014_08_13-00011870_s001_t003-0.fif) does not conform to MNE naming conventions. All raw files should end with raw.fif, raw_sss.fif, raw_tsss.fif, _meg.fif, _eeg.fif, _ieeg.fif, raw.fif.gz, raw_sss.fif.gz, raw_tsss.fif.gz, _meg.fif.gz, _eeg.fif.gz or _ieeg.fif.gz\n",
      "  bck = mne.io.read_raw_fif(path, preload=True, verbose=0).pick(['EEG T5-REF', 'EEG O1-REF'])\n",
      "C:\\Users\\Irfan\\AppData\\Local\\Temp/ipykernel_8244/2314466411.py:4: RuntimeWarning: This filename (../Dataset/gnsz/s001_2014_08_13-00011870_s001_t003-1.fif) does not conform to MNE naming conventions. All raw files should end with raw.fif, raw_sss.fif, raw_tsss.fif, _meg.fif, _eeg.fif, _ieeg.fif, raw.fif.gz, raw_sss.fif.gz, raw_tsss.fif.gz, _meg.fif.gz, _eeg.fif.gz or _ieeg.fif.gz\n",
      "  bck = mne.io.read_raw_fif(path, preload=True, verbose=0).pick(['EEG T5-REF', 'EEG O1-REF'])\n",
      "C:\\Users\\Irfan\\AppData\\Local\\Temp/ipykernel_8244/2314466411.py:4: RuntimeWarning: This filename (../Dataset/gnsz/s001_2014_08_13-00011870_s001_t003-2.fif) does not conform to MNE naming conventions. All raw files should end with raw.fif, raw_sss.fif, raw_tsss.fif, _meg.fif, _eeg.fif, _ieeg.fif, raw.fif.gz, raw_sss.fif.gz, raw_tsss.fif.gz, _meg.fif.gz, _eeg.fif.gz or _ieeg.fif.gz\n",
      "  bck = mne.io.read_raw_fif(path, preload=True, verbose=0).pick(['EEG T5-REF', 'EEG O1-REF'])\n"
     ]
    }
   ],
   "source": [
    "plt.ioff()\n",
    "for file in f:\n",
    "    path = root + file\n",
    "    bck = mne.io.read_raw_fif(path, preload=True, verbose=0)\n",
    "    bck.notch_filter(freqs=np.arange(60,128,60), verbose=0)\n",
    "    bck.filter(l_freq=0.5, h_freq=50, iir_params=None, method=\"iir\", verbose = 0)\n",
    "    epochs = mne.make_fixed_length_epochs(bck, duration=3, preload=True, verbose = 0)\n",
    "    k=0\n",
    "    for epoch in list(epochs):\n",
    "        epoch_toplot = stats.trim_mean(epoch, 0.2)\n",
    "        plt.figure()        #creating a plt figure object\n",
    "        ax = plt.axes()     #calling axis method\n",
    "        ax.set_axis_off()   #removing axis marking from the plot\n",
    "        plt.specgram(epoch_toplot, Fs=256, NFFT=256, window=np.hamming(256), noverlap=192, cmap='jet')   #generating spectrogram\n",
    "        fname = save_img + \"gnsz_\" + file[:-4] + \"-spec_\" + str(k) + \".jpg\"\n",
    "        plt.savefig(fname,transparent=True,pad_inches=0,bbox_inches='tight')\n",
    "        plt.close()\n",
    "        k=k+1\n"
   ]
  }
 ],
 "metadata": {
  "interpreter": {
   "hash": "abc43c0dfd3be6e75395e609b68ff1d444fe1ba7bc598f9a4d8e0d29e2c56ec5"
  },
  "kernelspec": {
   "display_name": "Python 3.9.7 64-bit ('tensorflow-gpu': conda)",
   "language": "python",
   "name": "python3"
  },
  "language_info": {
   "codemirror_mode": {
    "name": "ipython",
    "version": 3
   },
   "file_extension": ".py",
   "mimetype": "text/x-python",
   "name": "python",
   "nbconvert_exporter": "python",
   "pygments_lexer": "ipython3",
   "version": "3.9.7"
  },
  "orig_nbformat": 4
 },
 "nbformat": 4,
 "nbformat_minor": 2
}
