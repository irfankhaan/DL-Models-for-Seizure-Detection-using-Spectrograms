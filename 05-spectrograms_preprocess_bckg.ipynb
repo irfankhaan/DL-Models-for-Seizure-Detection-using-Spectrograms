{
 "cells": [
  {
   "cell_type": "code",
   "execution_count": 2,
   "metadata": {},
   "outputs": [],
   "source": [
    "import os\n",
    "import numpy as np\n",
    "from scipy import stats\n",
    "import mne\n",
    "import matplotlib.pyplot as plt\n",
    "%matplotlib qt"
   ]
  },
  {
   "cell_type": "markdown",
   "metadata": {},
   "source": [
    "### List of all pure bckg files"
   ]
  },
  {
   "cell_type": "code",
   "execution_count": 1,
   "metadata": {},
   "outputs": [
    {
     "data": {
      "text/plain": [
       "''"
      ]
     },
     "execution_count": 1,
     "metadata": {},
     "output_type": "execute_result"
    }
   ],
   "source": [
    "## files used to generate bckg spectrograms\n",
    "fileObject = open('bckg_256.txt', \"r\")\n",
    "data = fileObject.read()\n",
    "bckg_256 = data.split('\\n')\n",
    "bckg_256.pop()"
   ]
  },
  {
   "cell_type": "code",
   "execution_count": 24,
   "metadata": {},
   "outputs": [],
   "source": [
    "## Channels to be used\n",
    "chl = ['EEG FP1-REF', 'EEG FP2-REF',  'EEG F3-REF', 'EEG F4-REF', 'EEG C3-REF', 'EEG C4-REF', 'EEG P3-REF', 'EEG P4-REF',\n",
    " 'EEG O1-REF', 'EEG O2-REF', 'EEG F7-REF', 'EEG F8-REF', 'EEG T3-REF', 'EEG T4-REF', 'EEG T5-REF', 'EEG T6-REF', 'EEG FZ-REF', 'EEG CZ-REF', 'EEG PZ-REF', 'EEG A1-REF',\n",
    " 'EEG A2-REF']"
   ]
  },
  {
   "cell_type": "markdown",
   "metadata": {},
   "source": [
    "### Making Spectrograms from pure bckg files"
   ]
  },
  {
   "cell_type": "code",
   "execution_count": 31,
   "metadata": {},
   "outputs": [],
   "source": [
    "plt.ioff()\n",
    "save_img = \"../Spectrograms/bckg/\"\n",
    "for path in bckg_256:\n",
    "    bck = mne.io.read_raw_edf(path[:-3] + \"edf\", preload=True, verbose=0).pick_channels(chl)\n",
    "    if bck.__len__()/bck.info['sfreq'] < 120: continue  ## skip files with duration < 120 seconds\n",
    "    bck.notch_filter(freqs=np.arange(60,128,60), verbose=0)\n",
    "    bck.filter(l_freq=0.5, h_freq=50, iir_params=None, method=\"iir\", verbose = 0)\n",
    "    epochs = mne.make_fixed_length_epochs(bck, duration=3, preload=True, verbose = 0)\n",
    "    k=0\n",
    "    for epoch in list(epochs):\n",
    "        epoch_toplot = stats.trim_mean(epoch, 0.2)\n",
    "        plt.figure()        #creating a plt figure object\n",
    "        ax = plt.axes()     #calling axis method\n",
    "        ax.set_axis_off()   #removing axis marking from the plot\n",
    "        plt.specgram(epoch_toplot, Fs=256, NFFT=256, window=np.hamming(256), noverlap=192, cmap='jet')   #generating spectrogram\n",
    "        fname = save_img + \"bckg_\" + path.split('/')[8] + \"-\" + path.split('/')[9][:-4] + \"-spec_\" + str(k) + \"iter4.jpg\"\n",
    "        plt.savefig(fname,transparent=True,pad_inches=0,bbox_inches='tight')\n",
    "        plt.close()\n",
    "        k=k+1\n"
   ]
  }
 ],
 "metadata": {
  "interpreter": {
   "hash": "efb29f29dfabb56190f8cf72ce38b33e8592a7bd383bbfc4d3bde940ec847c1e"
  },
  "kernelspec": {
   "display_name": "Python 3.9.7 ('tensorflow-gpu')",
   "language": "python",
   "name": "python3"
  },
  "language_info": {
   "codemirror_mode": {
    "name": "ipython",
    "version": 3
   },
   "file_extension": ".py",
   "mimetype": "text/x-python",
   "name": "python",
   "nbconvert_exporter": "python",
   "pygments_lexer": "ipython3",
   "version": "3.9.7"
  },
  "orig_nbformat": 4
 },
 "nbformat": 4,
 "nbformat_minor": 2
}
